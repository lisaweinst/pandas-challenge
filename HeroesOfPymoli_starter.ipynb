{
 "cells": [
  {
   "cell_type": "markdown",
   "metadata": {},
   "source": [
    "### Note\n",
    "* Instructions have been included for each segment. You do not have to follow them exactly, but they are included to help you think through the steps."
   ]
  },
  {
   "cell_type": "code",
   "execution_count": 1,
   "metadata": {},
   "outputs": [],
   "source": [
    "# Dependencies and Setup\n",
    "import pandas as pd\n",
    "\n",
    "# File to Load (Remember to Change These)\n",
    "file_to_load = \"Resources/purchase_data.csv\"\n",
    "\n",
    "# Read Purchasing File and store into Pandas data frame\n",
    "purchase_data = pd.read_csv(file_to_load)"
   ]
  },
  {
   "cell_type": "markdown",
   "metadata": {},
   "source": [
    "## Player Count"
   ]
  },
  {
   "cell_type": "markdown",
   "metadata": {},
   "source": [
    "* Display the total number of players\n"
   ]
  },
  {
   "cell_type": "code",
   "execution_count": 2,
   "metadata": {
    "jupyter": {
     "source_hidden": true
    }
   },
   "outputs": [
    {
     "data": {
      "text/html": [
       "<div>\n",
       "<style scoped>\n",
       "    .dataframe tbody tr th:only-of-type {\n",
       "        vertical-align: middle;\n",
       "    }\n",
       "\n",
       "    .dataframe tbody tr th {\n",
       "        vertical-align: top;\n",
       "    }\n",
       "\n",
       "    .dataframe thead th {\n",
       "        text-align: right;\n",
       "    }\n",
       "</style>\n",
       "<table border=\"1\" class=\"dataframe\">\n",
       "  <thead>\n",
       "    <tr style=\"text-align: right;\">\n",
       "      <th></th>\n",
       "      <th>Total Players</th>\n",
       "    </tr>\n",
       "  </thead>\n",
       "  <tbody>\n",
       "    <tr>\n",
       "      <th>0</th>\n",
       "      <td>576</td>\n",
       "    </tr>\n",
       "  </tbody>\n",
       "</table>\n",
       "</div>"
      ],
      "text/plain": [
       "   Total Players\n",
       "0            576"
      ]
     },
     "execution_count": 2,
     "metadata": {},
     "output_type": "execute_result"
    }
   ],
   "source": [
    "# Use the length of list of screen names \"SN\", for total players.\n",
    "total_players = len(purchase_data[\"SN\"].value_counts())\n",
    "\n",
    "# Create a data frame with total players named player count\n",
    "player_count = pd.DataFrame({\"Total Players\":[total_players]})\n",
    "player_count"
   ]
  },
  {
   "cell_type": "markdown",
   "metadata": {},
   "source": [
    "## Purchasing Analysis (Total)"
   ]
  },
  {
   "cell_type": "markdown",
   "metadata": {},
   "source": [
    "* Run basic calculations to obtain number of unique items, average price, etc.\n",
    "\n",
    "\n",
    "* Create a summary data frame to hold the results\n",
    "\n",
    "\n",
    "* Optional: give the displayed data cleaner formatting\n",
    "\n",
    "\n",
    "* Display the summary data frame\n"
   ]
  },
  {
   "cell_type": "code",
   "execution_count": 3,
   "metadata": {
    "scrolled": true
   },
   "outputs": [
    {
     "data": {
      "text/html": [
       "<style  type=\"text/css\" >\n",
       "</style><table id=\"T_32d59e16_bd53_11ea_a7d2_f079600752ca\" ><thead>    <tr>        <th class=\"blank level0\" ></th>        <th class=\"col_heading level0 col0\" >Number of Unique Items</th>        <th class=\"col_heading level0 col1\" >Average Price</th>        <th class=\"col_heading level0 col2\" >Number of Purchases</th>        <th class=\"col_heading level0 col3\" >Total Revenue</th>    </tr></thead><tbody>\n",
       "                <tr>\n",
       "                        <th id=\"T_32d59e16_bd53_11ea_a7d2_f079600752calevel0_row0\" class=\"row_heading level0 row0\" >0</th>\n",
       "                        <td id=\"T_32d59e16_bd53_11ea_a7d2_f079600752carow0_col0\" class=\"data row0 col0\" >179</td>\n",
       "                        <td id=\"T_32d59e16_bd53_11ea_a7d2_f079600752carow0_col1\" class=\"data row0 col1\" >$3.05</td>\n",
       "                        <td id=\"T_32d59e16_bd53_11ea_a7d2_f079600752carow0_col2\" class=\"data row0 col2\" >780</td>\n",
       "                        <td id=\"T_32d59e16_bd53_11ea_a7d2_f079600752carow0_col3\" class=\"data row0 col3\" >$2,379.77</td>\n",
       "            </tr>\n",
       "    </tbody></table>"
      ],
      "text/plain": [
       "<pandas.io.formats.style.Styler at 0x10c7c9588>"
      ]
     },
     "execution_count": 3,
     "metadata": {},
     "output_type": "execute_result"
    }
   ],
   "source": [
    "# Calculations for unique items, average price, purchase count, and revenue\n",
    "total_items = len((purchase_data[\"Item ID\"]).unique())\n",
    "average_price = (purchase_data[\"Price\"]).mean()\n",
    "total_purchases = (purchase_data[\"Purchase ID\"]).count()\n",
    "total_revenue = (purchase_data[\"Price\"]).sum()\n",
    "\n",
    "# Create data frame with obtained values\n",
    "summary_df = pd.DataFrame({\"Number of Unique Items\":[total_items],\"Average Price\":[average_price], \n",
    "                           \"Number of Purchases\": [total_purchases], \"Total Revenue\": [total_revenue]})\n",
    "#displaying data\n",
    "summary_df.style.format({'Average Price':\"${:,.2f}\",'Total Revenue': '${:,.2f}'})"
   ]
  },
  {
   "cell_type": "markdown",
   "metadata": {},
   "source": [
    "## Gender Demographics"
   ]
  },
  {
   "cell_type": "markdown",
   "metadata": {},
   "source": [
    "* Percentage and Count of Male Players\n",
    "\n",
    "\n",
    "* Percentage and Count of Female Players\n",
    "\n",
    "\n",
    "* Percentage and Count of Other / Non-Disclosed\n",
    "\n",
    "\n"
   ]
  },
  {
   "cell_type": "code",
   "execution_count": 4,
   "metadata": {},
   "outputs": [
    {
     "data": {
      "text/html": [
       "<div>\n",
       "<style scoped>\n",
       "    .dataframe tbody tr th:only-of-type {\n",
       "        vertical-align: middle;\n",
       "    }\n",
       "\n",
       "    .dataframe tbody tr th {\n",
       "        vertical-align: top;\n",
       "    }\n",
       "\n",
       "    .dataframe thead th {\n",
       "        text-align: right;\n",
       "    }\n",
       "</style>\n",
       "<table border=\"1\" class=\"dataframe\">\n",
       "  <thead>\n",
       "    <tr style=\"text-align: right;\">\n",
       "      <th></th>\n",
       "      <th>Total Count</th>\n",
       "      <th>Percentage of Players</th>\n",
       "    </tr>\n",
       "  </thead>\n",
       "  <tbody>\n",
       "    <tr>\n",
       "      <th>Male</th>\n",
       "      <td>84.03</td>\n",
       "      <td>484</td>\n",
       "    </tr>\n",
       "    <tr>\n",
       "      <th>Female</th>\n",
       "      <td>14.06</td>\n",
       "      <td>81</td>\n",
       "    </tr>\n",
       "    <tr>\n",
       "      <th>Other / Non-Disclosed</th>\n",
       "      <td>1.91</td>\n",
       "      <td>11</td>\n",
       "    </tr>\n",
       "  </tbody>\n",
       "</table>\n",
       "</div>"
      ],
      "text/plain": [
       "                       Total Count  Percentage of Players\n",
       "Male                         84.03                    484\n",
       "Female                       14.06                     81\n",
       "Other / Non-Disclosed         1.91                     11"
      ]
     },
     "execution_count": 4,
     "metadata": {},
     "output_type": "execute_result"
    }
   ],
   "source": [
    "df_genders = purchase_data[['Gender','SN']].drop_duplicates(subset = 'SN')\n",
    "\n",
    "gender_count = df_genders['Gender'].value_counts(0)\n",
    "gender_percent = df_genders['Gender'].value_counts(1)\n",
    "\n",
    "gender_count_df = pd.DataFrame(gender_count)\n",
    "#doing the percentage of the genders\n",
    "gender_percent_df = round(pd.DataFrame(gender_percent) * 100, 2)\n",
    "\n",
    "#merging the tables of the gender count and percentage\n",
    "gender_demographics_df = gender_percent_df.merge(gender_count_df, left_index = True, right_index = True)\n",
    "gender_demographics_df.columns = ['Total Count', 'Percentage of Players']\n",
    "gender_demographics_df"
   ]
  },
  {
   "cell_type": "markdown",
   "metadata": {},
   "source": [
    "\n",
    "## Purchasing Analysis (Gender)"
   ]
  },
  {
   "cell_type": "markdown",
   "metadata": {},
   "source": [
    "* Run basic calculations to obtain purchase count, avg. purchase price, avg. purchase total per person etc. by gender\n",
    "\n",
    "\n",
    "\n",
    "\n",
    "* Create a summary data frame to hold the results\n",
    "\n",
    "\n",
    "* Optional: give the displayed data cleaner formatting\n",
    "\n",
    "\n",
    "* Display the summary data frame"
   ]
  },
  {
   "cell_type": "code",
   "execution_count": 11,
   "metadata": {},
   "outputs": [
    {
     "data": {
      "text/html": [
       "<div>\n",
       "<style scoped>\n",
       "    .dataframe tbody tr th:only-of-type {\n",
       "        vertical-align: middle;\n",
       "    }\n",
       "\n",
       "    .dataframe tbody tr th {\n",
       "        vertical-align: top;\n",
       "    }\n",
       "\n",
       "    .dataframe thead th {\n",
       "        text-align: right;\n",
       "    }\n",
       "</style>\n",
       "<table border=\"1\" class=\"dataframe\">\n",
       "  <thead>\n",
       "    <tr style=\"text-align: right;\">\n",
       "      <th></th>\n",
       "      <th>Purchase Count</th>\n",
       "      <th>Average Purchase Price</th>\n",
       "      <th>Total Purchase Value</th>\n",
       "      <th>Avg Total Purchase per Person</th>\n",
       "    </tr>\n",
       "    <tr>\n",
       "      <th>Gender</th>\n",
       "      <th></th>\n",
       "      <th></th>\n",
       "      <th></th>\n",
       "      <th></th>\n",
       "    </tr>\n",
       "  </thead>\n",
       "  <tbody>\n",
       "    <tr>\n",
       "      <th>Female</th>\n",
       "      <td>113.0</td>\n",
       "      <td>3.20</td>\n",
       "      <td>361.94</td>\n",
       "      <td>4.47</td>\n",
       "    </tr>\n",
       "    <tr>\n",
       "      <th>Male</th>\n",
       "      <td>652.0</td>\n",
       "      <td>3.02</td>\n",
       "      <td>1967.64</td>\n",
       "      <td>4.07</td>\n",
       "    </tr>\n",
       "    <tr>\n",
       "      <th>Other / Non-Disclosed</th>\n",
       "      <td>15.0</td>\n",
       "      <td>3.35</td>\n",
       "      <td>50.19</td>\n",
       "      <td>4.56</td>\n",
       "    </tr>\n",
       "  </tbody>\n",
       "</table>\n",
       "</div>"
      ],
      "text/plain": [
       "                       Purchase Count  Average Purchase Price  \\\n",
       "Gender                                                          \n",
       "Female                          113.0                    3.20   \n",
       "Male                            652.0                    3.02   \n",
       "Other / Non-Disclosed            15.0                    3.35   \n",
       "\n",
       "                       Total Purchase Value  Avg Total Purchase per Person  \n",
       "Gender                                                                      \n",
       "Female                               361.94                           4.47  \n",
       "Male                                1967.64                           4.07  \n",
       "Other / Non-Disclosed                 50.19                           4.56  "
      ]
     },
     "execution_count": 11,
     "metadata": {},
     "output_type": "execute_result"
    }
   ],
   "source": [
    "\n",
    "#data frame by grouping by gender\n",
    "df_gender_2 = purchase_data.groupby('Gender')\n",
    "#getting values of pruchase ID and counting\n",
    "purchase_count = round(df_gender_2['Purchase ID'].count(), 0)\n",
    "#avg purchase price and getting the mean\n",
    "avg_purchase_price = round(df_gender_2['Price'].mean(), 2)\n",
    "#adding all the purchase prices\n",
    "total_purchase_value = round(df_gender_2['Price'].sum(), 2)\n",
    "#getting the purchase per gender\n",
    "purchase_value_per_gender = round(total_purchase_value / gender_count, 2)\n",
    "\n",
    "#making a data frame with the columns and adding column names\n",
    "purchase_analysis_g = pd.DataFrame([purchase_count, avg_purchase_price, total_purchase_value, purchase_value_per_gender])\n",
    "purchase_analysis_gender = purchase_analysis_g.T\n",
    "purchase_analysis_gender.columns = ['Purchase Count', 'Average Purchase Price', 'Total Purchase Value', 'Avg Total Purchase per Person']\n",
    "purchase_analysis_gender"
   ]
  },
  {
   "cell_type": "markdown",
   "metadata": {},
   "source": [
    "## Age Demographics"
   ]
  },
  {
   "cell_type": "markdown",
   "metadata": {},
   "source": [
    "* Establish bins for ages\n",
    "\n",
    "\n",
    "* Categorize the existing players using the age bins. Hint: use pd.cut()\n",
    "\n",
    "\n",
    "* Calculate the numbers and percentages by age group\n",
    "\n",
    "\n",
    "* Create a summary data frame to hold the results\n",
    "\n",
    "\n",
    "* Optional: round the percentage column to two decimal points\n",
    "\n",
    "\n",
    "* Display Age Demographics Table\n"
   ]
  },
  {
   "cell_type": "code",
   "execution_count": 6,
   "metadata": {},
   "outputs": [
    {
     "data": {
      "text/html": [
       "<style  type=\"text/css\" >\n",
       "</style><table id=\"T_3dee95aa_bd53_11ea_a7d2_f079600752ca\" ><thead>    <tr>        <th class=\"blank level0\" ></th>        <th class=\"col_heading level0 col0\" >Percentage of Players</th>        <th class=\"col_heading level0 col1\" >Total Count</th>    </tr></thead><tbody>\n",
       "                <tr>\n",
       "                        <th id=\"T_3dee95aa_bd53_11ea_a7d2_f079600752calevel0_row0\" class=\"row_heading level0 row0\" ><10</th>\n",
       "                        <td id=\"T_3dee95aa_bd53_11ea_a7d2_f079600752carow0_col0\" class=\"data row0 col0\" >2.95</td>\n",
       "                        <td id=\"T_3dee95aa_bd53_11ea_a7d2_f079600752carow0_col1\" class=\"data row0 col1\" >17</td>\n",
       "            </tr>\n",
       "            <tr>\n",
       "                        <th id=\"T_3dee95aa_bd53_11ea_a7d2_f079600752calevel0_row1\" class=\"row_heading level0 row1\" >10-14</th>\n",
       "                        <td id=\"T_3dee95aa_bd53_11ea_a7d2_f079600752carow1_col0\" class=\"data row1 col0\" >3.82</td>\n",
       "                        <td id=\"T_3dee95aa_bd53_11ea_a7d2_f079600752carow1_col1\" class=\"data row1 col1\" >22</td>\n",
       "            </tr>\n",
       "            <tr>\n",
       "                        <th id=\"T_3dee95aa_bd53_11ea_a7d2_f079600752calevel0_row2\" class=\"row_heading level0 row2\" >15-19</th>\n",
       "                        <td id=\"T_3dee95aa_bd53_11ea_a7d2_f079600752carow2_col0\" class=\"data row2 col0\" >18.58</td>\n",
       "                        <td id=\"T_3dee95aa_bd53_11ea_a7d2_f079600752carow2_col1\" class=\"data row2 col1\" >107</td>\n",
       "            </tr>\n",
       "            <tr>\n",
       "                        <th id=\"T_3dee95aa_bd53_11ea_a7d2_f079600752calevel0_row3\" class=\"row_heading level0 row3\" >20-24</th>\n",
       "                        <td id=\"T_3dee95aa_bd53_11ea_a7d2_f079600752carow3_col0\" class=\"data row3 col0\" >44.79</td>\n",
       "                        <td id=\"T_3dee95aa_bd53_11ea_a7d2_f079600752carow3_col1\" class=\"data row3 col1\" >258</td>\n",
       "            </tr>\n",
       "            <tr>\n",
       "                        <th id=\"T_3dee95aa_bd53_11ea_a7d2_f079600752calevel0_row4\" class=\"row_heading level0 row4\" >25-29</th>\n",
       "                        <td id=\"T_3dee95aa_bd53_11ea_a7d2_f079600752carow4_col0\" class=\"data row4 col0\" >13.37</td>\n",
       "                        <td id=\"T_3dee95aa_bd53_11ea_a7d2_f079600752carow4_col1\" class=\"data row4 col1\" >77</td>\n",
       "            </tr>\n",
       "            <tr>\n",
       "                        <th id=\"T_3dee95aa_bd53_11ea_a7d2_f079600752calevel0_row5\" class=\"row_heading level0 row5\" >30-34</th>\n",
       "                        <td id=\"T_3dee95aa_bd53_11ea_a7d2_f079600752carow5_col0\" class=\"data row5 col0\" >9.03</td>\n",
       "                        <td id=\"T_3dee95aa_bd53_11ea_a7d2_f079600752carow5_col1\" class=\"data row5 col1\" >52</td>\n",
       "            </tr>\n",
       "            <tr>\n",
       "                        <th id=\"T_3dee95aa_bd53_11ea_a7d2_f079600752calevel0_row6\" class=\"row_heading level0 row6\" >35-39</th>\n",
       "                        <td id=\"T_3dee95aa_bd53_11ea_a7d2_f079600752carow6_col0\" class=\"data row6 col0\" >5.38</td>\n",
       "                        <td id=\"T_3dee95aa_bd53_11ea_a7d2_f079600752carow6_col1\" class=\"data row6 col1\" >31</td>\n",
       "            </tr>\n",
       "            <tr>\n",
       "                        <th id=\"T_3dee95aa_bd53_11ea_a7d2_f079600752calevel0_row7\" class=\"row_heading level0 row7\" >40+</th>\n",
       "                        <td id=\"T_3dee95aa_bd53_11ea_a7d2_f079600752carow7_col0\" class=\"data row7 col0\" >2.08</td>\n",
       "                        <td id=\"T_3dee95aa_bd53_11ea_a7d2_f079600752carow7_col1\" class=\"data row7 col1\" >12</td>\n",
       "            </tr>\n",
       "    </tbody></table>"
      ],
      "text/plain": [
       "<pandas.io.formats.style.Styler at 0x10e432a20>"
      ]
     },
     "execution_count": 6,
     "metadata": {},
     "output_type": "execute_result"
    }
   ],
   "source": [
    "# Establish bins for ages\n",
    "age_bins = [0, 9.90, 14.90, 19.90, 24.90, 29.90, 34.90, 39.90, 99999]\n",
    "age_categories = [\"<10\", \"10-14\", \"15-19\", \"20-24\", \"25-29\", \"30-34\", \"35-39\", \"40+\"]\n",
    "\n",
    "# Segment and sort age values into bins established above\n",
    "purchase_data[\"Age Group\"] = pd.cut(purchase_data[\"Age\"],age_bins, labels=age_categories)\n",
    "purchase_data\n",
    "\n",
    "# Create new data frame with the added \"Age Group\" and group it\n",
    "age_groupings = purchase_data.groupby(\"Age Group\")\n",
    "\n",
    "# Count total players by age category\n",
    "total_count_age = age_groupings[\"SN\"].nunique()\n",
    "\n",
    "# Calculate percentages by age category \n",
    "percentage_by_age = (total_count_age/total_players) * 100\n",
    "\n",
    "# Create data frame with obtained values\n",
    "age_summary = pd.DataFrame({\"Percentage of Players\": percentage_by_age, \"Total Count\": total_count_age})\n",
    "\n",
    "# Format the data frame with no index name in the corner\n",
    "age_summary.index.name = None\n",
    "\n",
    "# call upon the percentage of players and total count columns\n",
    "#format the chart will only two decimal places\n",
    "age_summary.style.format({\"Percentage of Players\":\"{:,.2f}\"})"
   ]
  },
  {
   "cell_type": "markdown",
   "metadata": {},
   "source": [
    "## Purchasing Analysis (Age)"
   ]
  },
  {
   "cell_type": "markdown",
   "metadata": {},
   "source": [
    "* Bin the purchase_data data frame by age\n",
    "\n",
    "\n",
    "* Run basic calculations to obtain purchase count, avg. purchase price, avg. purchase total per person etc. in the table below\n",
    "\n",
    "\n",
    "* Create a summary data frame to hold the results\n",
    "\n",
    "\n",
    "* Optional: give the displayed data cleaner formatting\n",
    "\n",
    "\n",
    "* Display the summary data frame"
   ]
  },
  {
   "cell_type": "code",
   "execution_count": 7,
   "metadata": {},
   "outputs": [
    {
     "data": {
      "text/html": [
       "<div>\n",
       "<style scoped>\n",
       "    .dataframe tbody tr th:only-of-type {\n",
       "        vertical-align: middle;\n",
       "    }\n",
       "\n",
       "    .dataframe tbody tr th {\n",
       "        vertical-align: top;\n",
       "    }\n",
       "\n",
       "    .dataframe thead th {\n",
       "        text-align: right;\n",
       "    }\n",
       "</style>\n",
       "<table border=\"1\" class=\"dataframe\">\n",
       "  <thead>\n",
       "    <tr style=\"text-align: right;\">\n",
       "      <th></th>\n",
       "      <th>Purchase Count</th>\n",
       "      <th>Average Purchase Price</th>\n",
       "      <th>Total Purchase Value</th>\n",
       "      <th>Avg Total Purchase per Person</th>\n",
       "    </tr>\n",
       "  </thead>\n",
       "  <tbody>\n",
       "    <tr>\n",
       "      <th>&lt;10</th>\n",
       "      <td>23.0</td>\n",
       "      <td>3.35</td>\n",
       "      <td>77.13</td>\n",
       "      <td>4.54</td>\n",
       "    </tr>\n",
       "    <tr>\n",
       "      <th>10-14</th>\n",
       "      <td>28.0</td>\n",
       "      <td>2.96</td>\n",
       "      <td>82.78</td>\n",
       "      <td>3.76</td>\n",
       "    </tr>\n",
       "    <tr>\n",
       "      <th>15-19</th>\n",
       "      <td>136.0</td>\n",
       "      <td>3.04</td>\n",
       "      <td>412.89</td>\n",
       "      <td>3.86</td>\n",
       "    </tr>\n",
       "    <tr>\n",
       "      <th>20-24</th>\n",
       "      <td>365.0</td>\n",
       "      <td>3.05</td>\n",
       "      <td>1114.06</td>\n",
       "      <td>4.32</td>\n",
       "    </tr>\n",
       "    <tr>\n",
       "      <th>25-29</th>\n",
       "      <td>101.0</td>\n",
       "      <td>2.90</td>\n",
       "      <td>293.00</td>\n",
       "      <td>3.81</td>\n",
       "    </tr>\n",
       "  </tbody>\n",
       "</table>\n",
       "</div>"
      ],
      "text/plain": [
       "       Purchase Count  Average Purchase Price  Total Purchase Value  \\\n",
       "<10              23.0                    3.35                 77.13   \n",
       "10-14            28.0                    2.96                 82.78   \n",
       "15-19           136.0                    3.04                412.89   \n",
       "20-24           365.0                    3.05               1114.06   \n",
       "25-29           101.0                    2.90                293.00   \n",
       "\n",
       "       Avg Total Purchase per Person  \n",
       "<10                             4.54  \n",
       "10-14                           3.76  \n",
       "15-19                           3.86  \n",
       "20-24                           4.32  \n",
       "25-29                           3.81  "
      ]
     },
     "execution_count": 7,
     "metadata": {},
     "output_type": "execute_result"
    }
   ],
   "source": [
    "# Count purchases by age group\n",
    "counting_purchases = age_groupings[\"Purchase ID\"].count()\n",
    "\n",
    "# Obtain average purchase price by age group \n",
    "avg_purchase_price_age = round(age_groupings[\"Price\"].mean(),2)\n",
    "\n",
    "# Calculate total purchase value by age group \n",
    "total_purchase_value = age_groupings[\"Price\"].sum()\n",
    "\n",
    "# Calculate the average purchase per person in the age group \n",
    "avg_purchase_per_person_age = round((total_purchase_value/total_count_age),2)\n",
    "\n",
    "\n",
    "#creating a dataframe of the values and then adding the columns to the dataframe\n",
    "\n",
    "summary_of_ages = pd.DataFrame([counting_purchases, avg_purchase_price_age, total_purchase_value, avg_purchase_per_person_age])\n",
    "summary_of_ages2 = summary_of_ages.T\n",
    "summary_of_ages2.columns = ['Purchase Count', 'Average Purchase Price', 'Total Purchase Value', 'Avg Total Purchase per Person']\n",
    "summary_of_ages2.head()\n",
    "\n",
    "\n",
    "\n"
   ]
  },
  {
   "cell_type": "markdown",
   "metadata": {},
   "source": [
    "## Top Spenders"
   ]
  },
  {
   "cell_type": "markdown",
   "metadata": {},
   "source": [
    "* Run basic calculations to obtain the results in the table below\n",
    "\n",
    "\n",
    "* Create a summary data frame to hold the results\n",
    "\n",
    "\n",
    "* Sort the total purchase value column in descending order\n",
    "\n",
    "\n",
    "* Optional: give the displayed data cleaner formatting\n",
    "\n",
    "\n",
    "* Display a preview of the summary data frame\n",
    "\n"
   ]
  },
  {
   "cell_type": "code",
   "execution_count": 8,
   "metadata": {},
   "outputs": [
    {
     "data": {
      "text/html": [
       "<div>\n",
       "<style scoped>\n",
       "    .dataframe tbody tr th:only-of-type {\n",
       "        vertical-align: middle;\n",
       "    }\n",
       "\n",
       "    .dataframe tbody tr th {\n",
       "        vertical-align: top;\n",
       "    }\n",
       "\n",
       "    .dataframe thead th {\n",
       "        text-align: right;\n",
       "    }\n",
       "</style>\n",
       "<table border=\"1\" class=\"dataframe\">\n",
       "  <thead>\n",
       "    <tr style=\"text-align: right;\">\n",
       "      <th></th>\n",
       "      <th>SN</th>\n",
       "      <th>Purchase Count</th>\n",
       "      <th>Average Purchase Price</th>\n",
       "      <th>Total Purchase Value</th>\n",
       "    </tr>\n",
       "  </thead>\n",
       "  <tbody>\n",
       "    <tr>\n",
       "      <th>0</th>\n",
       "      <td>Lisosia93</td>\n",
       "      <td>5.0</td>\n",
       "      <td>3.79</td>\n",
       "      <td>18.96</td>\n",
       "    </tr>\n",
       "    <tr>\n",
       "      <th>1</th>\n",
       "      <td>Idastidru52</td>\n",
       "      <td>4.0</td>\n",
       "      <td>3.86</td>\n",
       "      <td>15.45</td>\n",
       "    </tr>\n",
       "    <tr>\n",
       "      <th>2</th>\n",
       "      <td>Chamjask73</td>\n",
       "      <td>3.0</td>\n",
       "      <td>4.61</td>\n",
       "      <td>13.83</td>\n",
       "    </tr>\n",
       "    <tr>\n",
       "      <th>3</th>\n",
       "      <td>Iral74</td>\n",
       "      <td>4.0</td>\n",
       "      <td>3.40</td>\n",
       "      <td>13.62</td>\n",
       "    </tr>\n",
       "    <tr>\n",
       "      <th>4</th>\n",
       "      <td>Iskadarya95</td>\n",
       "      <td>3.0</td>\n",
       "      <td>4.37</td>\n",
       "      <td>13.10</td>\n",
       "    </tr>\n",
       "  </tbody>\n",
       "</table>\n",
       "</div>"
      ],
      "text/plain": [
       "            SN  Purchase Count  Average Purchase Price  Total Purchase Value\n",
       "0    Lisosia93             5.0                    3.79                 18.96\n",
       "1  Idastidru52             4.0                    3.86                 15.45\n",
       "2   Chamjask73             3.0                    4.61                 13.83\n",
       "3       Iral74             4.0                    3.40                 13.62\n",
       "4  Iskadarya95             3.0                    4.37                 13.10"
      ]
     },
     "execution_count": 8,
     "metadata": {},
     "output_type": "execute_result"
    }
   ],
   "source": [
    "#grabbing the screen names\n",
    "top_spenders = purchase_data.groupby('SN')\n",
    "#count per gender\n",
    "purchase_counts = top_spenders['Gender'].count()\n",
    "#round to the second decimal\n",
    "average_spending = round(top_spenders['Price'].mean(),2)\n",
    "total_purchase = round(top_spenders['Price'].sum(),2)\n",
    "\n",
    "#creating the spenders chart will the columns of purchase count, sn, avg purchase price and total purchase value\n",
    "spenders = pd.DataFrame([purchase_counts, average_spending, total_purchase])\n",
    "spenders1 = spenders.T\n",
    "spenders1.columns = ['Purchase Count', 'Average Purchase Price', 'Total Purchase Value']\n",
    "#ordering the total purchase value column with highest price to lowest\n",
    "spenders1.sort_values('Total Purchase Value', ascending=False).reset_index().head()\n"
   ]
  },
  {
   "cell_type": "markdown",
   "metadata": {},
   "source": [
    "## Most Popular Items"
   ]
  },
  {
   "cell_type": "markdown",
   "metadata": {},
   "source": [
    "* Retrieve the Item ID, Item Name, and Item Price columns\n",
    "\n",
    "\n",
    "* Group by Item ID and Item Name. Perform calculations to obtain purchase count, item price, and total purchase value\n",
    "\n",
    "\n",
    "* Create a summary data frame to hold the results\n",
    "\n",
    "\n",
    "* Sort the purchase count column in descending order\n",
    "\n",
    "\n",
    "* Optional: give the displayed data cleaner formatting\n",
    "\n",
    "\n",
    "* Display a preview of the summary data frame\n",
    "\n"
   ]
  },
  {
   "cell_type": "code",
   "execution_count": 9,
   "metadata": {},
   "outputs": [
    {
     "data": {
      "text/html": [
       "<style  type=\"text/css\" >\n",
       "</style><table id=\"T_85df92ce_bd53_11ea_a7d2_f079600752ca\" ><thead>    <tr>        <th class=\"blank\" ></th>        <th class=\"blank level0\" ></th>        <th class=\"col_heading level0 col0\" >Purchase Count</th>        <th class=\"col_heading level0 col1\" >Item Price</th>        <th class=\"col_heading level0 col2\" >Total Purchase Value</th>    </tr>    <tr>        <th class=\"index_name level0\" >Item ID</th>        <th class=\"index_name level1\" >Item Name</th>        <th class=\"blank\" ></th>        <th class=\"blank\" ></th>        <th class=\"blank\" ></th>    </tr></thead><tbody>\n",
       "                <tr>\n",
       "                        <th id=\"T_85df92ce_bd53_11ea_a7d2_f079600752calevel0_row0\" class=\"row_heading level0 row0\" >92</th>\n",
       "                        <th id=\"T_85df92ce_bd53_11ea_a7d2_f079600752calevel1_row0\" class=\"row_heading level1 row0\" >Final Critic</th>\n",
       "                        <td id=\"T_85df92ce_bd53_11ea_a7d2_f079600752carow0_col0\" class=\"data row0 col0\" >13</td>\n",
       "                        <td id=\"T_85df92ce_bd53_11ea_a7d2_f079600752carow0_col1\" class=\"data row0 col1\" >$4.61</td>\n",
       "                        <td id=\"T_85df92ce_bd53_11ea_a7d2_f079600752carow0_col2\" class=\"data row0 col2\" >$59.99</td>\n",
       "            </tr>\n",
       "            <tr>\n",
       "                        <th id=\"T_85df92ce_bd53_11ea_a7d2_f079600752calevel0_row1\" class=\"row_heading level0 row1\" >178</th>\n",
       "                        <th id=\"T_85df92ce_bd53_11ea_a7d2_f079600752calevel1_row1\" class=\"row_heading level1 row1\" >Oathbreaker, Last Hope of the Breaking Storm</th>\n",
       "                        <td id=\"T_85df92ce_bd53_11ea_a7d2_f079600752carow1_col0\" class=\"data row1 col0\" >12</td>\n",
       "                        <td id=\"T_85df92ce_bd53_11ea_a7d2_f079600752carow1_col1\" class=\"data row1 col1\" >$4.23</td>\n",
       "                        <td id=\"T_85df92ce_bd53_11ea_a7d2_f079600752carow1_col2\" class=\"data row1 col2\" >$50.76</td>\n",
       "            </tr>\n",
       "            <tr>\n",
       "                        <th id=\"T_85df92ce_bd53_11ea_a7d2_f079600752calevel0_row2\" class=\"row_heading level0 row2\" >145</th>\n",
       "                        <th id=\"T_85df92ce_bd53_11ea_a7d2_f079600752calevel1_row2\" class=\"row_heading level1 row2\" >Fiery Glass Crusader</th>\n",
       "                        <td id=\"T_85df92ce_bd53_11ea_a7d2_f079600752carow2_col0\" class=\"data row2 col0\" >9</td>\n",
       "                        <td id=\"T_85df92ce_bd53_11ea_a7d2_f079600752carow2_col1\" class=\"data row2 col1\" >$4.58</td>\n",
       "                        <td id=\"T_85df92ce_bd53_11ea_a7d2_f079600752carow2_col2\" class=\"data row2 col2\" >$41.22</td>\n",
       "            </tr>\n",
       "            <tr>\n",
       "                        <th id=\"T_85df92ce_bd53_11ea_a7d2_f079600752calevel0_row3\" class=\"row_heading level0 row3\" >132</th>\n",
       "                        <th id=\"T_85df92ce_bd53_11ea_a7d2_f079600752calevel1_row3\" class=\"row_heading level1 row3\" >Persuasion</th>\n",
       "                        <td id=\"T_85df92ce_bd53_11ea_a7d2_f079600752carow3_col0\" class=\"data row3 col0\" >9</td>\n",
       "                        <td id=\"T_85df92ce_bd53_11ea_a7d2_f079600752carow3_col1\" class=\"data row3 col1\" >$3.22</td>\n",
       "                        <td id=\"T_85df92ce_bd53_11ea_a7d2_f079600752carow3_col2\" class=\"data row3 col2\" >$28.99</td>\n",
       "            </tr>\n",
       "            <tr>\n",
       "                        <th id=\"T_85df92ce_bd53_11ea_a7d2_f079600752calevel0_row4\" class=\"row_heading level0 row4\" >108</th>\n",
       "                        <th id=\"T_85df92ce_bd53_11ea_a7d2_f079600752calevel1_row4\" class=\"row_heading level1 row4\" >Extraction, Quickblade Of Trembling Hands</th>\n",
       "                        <td id=\"T_85df92ce_bd53_11ea_a7d2_f079600752carow4_col0\" class=\"data row4 col0\" >9</td>\n",
       "                        <td id=\"T_85df92ce_bd53_11ea_a7d2_f079600752carow4_col1\" class=\"data row4 col1\" >$3.53</td>\n",
       "                        <td id=\"T_85df92ce_bd53_11ea_a7d2_f079600752carow4_col2\" class=\"data row4 col2\" >$31.77</td>\n",
       "            </tr>\n",
       "    </tbody></table>"
      ],
      "text/plain": [
       "<pandas.io.formats.style.Styler at 0x11dad7320>"
      ]
     },
     "execution_count": 9,
     "metadata": {},
     "output_type": "execute_result"
    }
   ],
   "source": [
    "#Create new data frame with items related information \n",
    "items = purchase_data[[\"Item ID\", \"Item Name\", \"Price\"]]\n",
    "\n",
    "# Group the item data by item id and item name \n",
    "item_stats = items.groupby([\"Item ID\",\"Item Name\"])\n",
    "\n",
    "# Count the number of times an item has been purchased \n",
    "counting_purchased_items = item_stats[\"Price\"].count()\n",
    "#purchase_count_item\n",
    "# Calcualte the purchase value per item \n",
    "purchase_value = item_stats[\"Price\"].sum() \n",
    "\n",
    "# Find individual item price\n",
    "item_price = purchase_value/counting_purchased_items\n",
    "\n",
    "# Create data frame with obtained values\n",
    "top_items = pd.DataFrame({\"Purchase Count\": counting_purchased_items, \"Item Price\": item_price,\"Total Purchase Value\":purchase_value})\n",
    "\n",
    "# Sort in descending order to obtain top spender names and provide top 5 item names\n",
    "popular_formatted = top_items.sort_values([\"Purchase Count\"], ascending=False).head()\n",
    "\n",
    "#getting the chart with formattinga. dollar sign\n",
    "popular_formatted.style.format({\"Item Price\":\"${:,.2f}\",\"Total Purchase Value\":\"${:,.2f}\"})"
   ]
  },
  {
   "cell_type": "markdown",
   "metadata": {},
   "source": [
    "## Most Profitable Items"
   ]
  },
  {
   "cell_type": "markdown",
   "metadata": {},
   "source": [
    "* Sort the above table by total purchase value in descending order\n",
    "\n",
    "\n",
    "* Optional: give the displayed data cleaner formatting\n",
    "\n",
    "\n",
    "* Display a preview of the data frame\n",
    "\n"
   ]
  },
  {
   "cell_type": "code",
   "execution_count": 10,
   "metadata": {
    "scrolled": true
   },
   "outputs": [
    {
     "data": {
      "text/html": [
       "<style  type=\"text/css\" >\n",
       "</style><table id=\"T_93d3170c_bd53_11ea_a7d2_f079600752ca\" ><thead>    <tr>        <th class=\"blank\" ></th>        <th class=\"blank level0\" ></th>        <th class=\"col_heading level0 col0\" >Purchase Count</th>        <th class=\"col_heading level0 col1\" >Item Price</th>        <th class=\"col_heading level0 col2\" >Total Purchase Value</th>    </tr>    <tr>        <th class=\"index_name level0\" >Item ID</th>        <th class=\"index_name level1\" >Item Name</th>        <th class=\"blank\" ></th>        <th class=\"blank\" ></th>        <th class=\"blank\" ></th>    </tr></thead><tbody>\n",
       "                <tr>\n",
       "                        <th id=\"T_93d3170c_bd53_11ea_a7d2_f079600752calevel0_row0\" class=\"row_heading level0 row0\" >92</th>\n",
       "                        <th id=\"T_93d3170c_bd53_11ea_a7d2_f079600752calevel1_row0\" class=\"row_heading level1 row0\" >Final Critic</th>\n",
       "                        <td id=\"T_93d3170c_bd53_11ea_a7d2_f079600752carow0_col0\" class=\"data row0 col0\" >13</td>\n",
       "                        <td id=\"T_93d3170c_bd53_11ea_a7d2_f079600752carow0_col1\" class=\"data row0 col1\" >$4.61</td>\n",
       "                        <td id=\"T_93d3170c_bd53_11ea_a7d2_f079600752carow0_col2\" class=\"data row0 col2\" >$59.99</td>\n",
       "            </tr>\n",
       "            <tr>\n",
       "                        <th id=\"T_93d3170c_bd53_11ea_a7d2_f079600752calevel0_row1\" class=\"row_heading level0 row1\" >178</th>\n",
       "                        <th id=\"T_93d3170c_bd53_11ea_a7d2_f079600752calevel1_row1\" class=\"row_heading level1 row1\" >Oathbreaker, Last Hope of the Breaking Storm</th>\n",
       "                        <td id=\"T_93d3170c_bd53_11ea_a7d2_f079600752carow1_col0\" class=\"data row1 col0\" >12</td>\n",
       "                        <td id=\"T_93d3170c_bd53_11ea_a7d2_f079600752carow1_col1\" class=\"data row1 col1\" >$4.23</td>\n",
       "                        <td id=\"T_93d3170c_bd53_11ea_a7d2_f079600752carow1_col2\" class=\"data row1 col2\" >$50.76</td>\n",
       "            </tr>\n",
       "            <tr>\n",
       "                        <th id=\"T_93d3170c_bd53_11ea_a7d2_f079600752calevel0_row2\" class=\"row_heading level0 row2\" >82</th>\n",
       "                        <th id=\"T_93d3170c_bd53_11ea_a7d2_f079600752calevel1_row2\" class=\"row_heading level1 row2\" >Nirvana</th>\n",
       "                        <td id=\"T_93d3170c_bd53_11ea_a7d2_f079600752carow2_col0\" class=\"data row2 col0\" >9</td>\n",
       "                        <td id=\"T_93d3170c_bd53_11ea_a7d2_f079600752carow2_col1\" class=\"data row2 col1\" >$4.90</td>\n",
       "                        <td id=\"T_93d3170c_bd53_11ea_a7d2_f079600752carow2_col2\" class=\"data row2 col2\" >$44.10</td>\n",
       "            </tr>\n",
       "            <tr>\n",
       "                        <th id=\"T_93d3170c_bd53_11ea_a7d2_f079600752calevel0_row3\" class=\"row_heading level0 row3\" >145</th>\n",
       "                        <th id=\"T_93d3170c_bd53_11ea_a7d2_f079600752calevel1_row3\" class=\"row_heading level1 row3\" >Fiery Glass Crusader</th>\n",
       "                        <td id=\"T_93d3170c_bd53_11ea_a7d2_f079600752carow3_col0\" class=\"data row3 col0\" >9</td>\n",
       "                        <td id=\"T_93d3170c_bd53_11ea_a7d2_f079600752carow3_col1\" class=\"data row3 col1\" >$4.58</td>\n",
       "                        <td id=\"T_93d3170c_bd53_11ea_a7d2_f079600752carow3_col2\" class=\"data row3 col2\" >$41.22</td>\n",
       "            </tr>\n",
       "            <tr>\n",
       "                        <th id=\"T_93d3170c_bd53_11ea_a7d2_f079600752calevel0_row4\" class=\"row_heading level0 row4\" >103</th>\n",
       "                        <th id=\"T_93d3170c_bd53_11ea_a7d2_f079600752calevel1_row4\" class=\"row_heading level1 row4\" >Singed Scalpel</th>\n",
       "                        <td id=\"T_93d3170c_bd53_11ea_a7d2_f079600752carow4_col0\" class=\"data row4 col0\" >8</td>\n",
       "                        <td id=\"T_93d3170c_bd53_11ea_a7d2_f079600752carow4_col1\" class=\"data row4 col1\" >$4.35</td>\n",
       "                        <td id=\"T_93d3170c_bd53_11ea_a7d2_f079600752carow4_col2\" class=\"data row4 col2\" >$34.80</td>\n",
       "            </tr>\n",
       "    </tbody></table>"
      ],
      "text/plain": [
       "<pandas.io.formats.style.Styler at 0x11c672208>"
      ]
     },
     "execution_count": 10,
     "metadata": {},
     "output_type": "execute_result"
    }
   ],
   "source": [
    "# sorting the popular items\n",
    "popular_formatted2 = top_items.sort_values([\"Total Purchase Value\"],ascending=False).head()\n",
    "# formatting the chart\n",
    "popular_formatted2.style.format({\"Item Price\":\"${:,.2f}\", \"Total Purchase Value\":\"${:,.2f}\"})"
   ]
  },
  {
   "cell_type": "code",
   "execution_count": null,
   "metadata": {},
   "outputs": [],
   "source": []
  }
 ],
 "metadata": {
  "anaconda-cloud": {},
  "kernel_info": {
   "name": "python3"
  },
  "kernelspec": {
   "display_name": "Python 3",
   "language": "python",
   "name": "python3"
  },
  "language_info": {
   "codemirror_mode": {
    "name": "ipython",
    "version": 3
   },
   "file_extension": ".py",
   "mimetype": "text/x-python",
   "name": "python",
   "nbconvert_exporter": "python",
   "pygments_lexer": "ipython3",
   "version": "3.7.1"
  },
  "latex_envs": {
   "LaTeX_envs_menu_present": true,
   "autoclose": false,
   "autocomplete": true,
   "bibliofile": "biblio.bib",
   "cite_by": "apalike",
   "current_citInitial": 1,
   "eqLabelWithNumbers": true,
   "eqNumInitial": 1,
   "hotkeys": {
    "equation": "Ctrl-E",
    "itemize": "Ctrl-I"
   },
   "labels_anchors": false,
   "latex_user_defs": false,
   "report_style_numbering": false,
   "user_envs_cfg": false
  },
  "nteract": {
   "version": "0.2.0"
  }
 },
 "nbformat": 4,
 "nbformat_minor": 4
}
